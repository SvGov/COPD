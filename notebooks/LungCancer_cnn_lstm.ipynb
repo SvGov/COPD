{
  "nbformat": 4,
  "nbformat_minor": 0,
  "metadata": {
    "colab": {
      "name": "LungCancer_cnn_lstm.ipynb",
      "provenance": [],
      "collapsed_sections": []
    },
    "kernelspec": {
      "name": "python3",
      "display_name": "Python 3"
    },
    "language_info": {
      "name": "python"
    },
    "accelerator": "GPU"
  },
  "cells": [
    {
      "cell_type": "markdown",
      "source": [
        "# A Large-Scale CT and PET/CT Dataset for Lung Cancer Diagnosis (Lung-PET-CT-Dx) https://wiki.cancerimagingarchive.net/pages/viewpage.action?pageId=70224216"
      ],
      "metadata": {
        "id": "Ig2ZlZAPcpuf"
      }
    },
    {
      "cell_type": "markdown",
      "source": [
        "# Импорт"
      ],
      "metadata": {
        "id": "zakOLcQHdhQq"
      }
    },
    {
      "cell_type": "code",
      "execution_count": 1,
      "metadata": {
        "id": "UM8fEcm6c4cV"
      },
      "outputs": [],
      "source": [
        "import os\n",
        "import shutil\n",
        "import numpy as np\n",
        "import matplotlib.pyplot as plt"
      ]
    },
    {
      "cell_type": "code",
      "source": [
        "import torch\n",
        "import torchvision\n",
        "from torch.utils.data import random_split\n",
        "import torch.nn as nn\n",
        "# import torch.nn.functional as F\n",
        "from torch.utils.data import Dataset, DataLoader\n",
        "import torchvision.transforms as transforms\n",
        "from torchvision import models"
      ],
      "metadata": {
        "id": "jedtpcaOEB3g"
      },
      "execution_count": 2,
      "outputs": []
    },
    {
      "cell_type": "code",
      "source": [
        "!pip install pydicom\n",
        "from pydicom import dcmread"
      ],
      "metadata": {
        "colab": {
          "base_uri": "https://localhost:8080/"
        },
        "id": "4LdKWoq_eYks",
        "outputId": "2c4d7ed5-001d-495f-e84d-ab534e700764"
      },
      "execution_count": 3,
      "outputs": [
        {
          "output_type": "stream",
          "name": "stdout",
          "text": [
            "Looking in indexes: https://pypi.org/simple, https://us-python.pkg.dev/colab-wheels/public/simple/\n",
            "Collecting pydicom\n",
            "  Downloading pydicom-2.3.0-py3-none-any.whl (2.0 MB)\n",
            "\u001b[K     |████████████████████████████████| 2.0 MB 9.9 MB/s \n",
            "\u001b[?25hInstalling collected packages: pydicom\n",
            "Successfully installed pydicom-2.3.0\n"
          ]
        }
      ]
    },
    {
      "cell_type": "code",
      "source": [
        "!pip install torchmetrics\n",
        "import torchmetrics"
      ],
      "metadata": {
        "colab": {
          "base_uri": "https://localhost:8080/"
        },
        "id": "rCB34RqlzCAt",
        "outputId": "34828949-75f6-4e9e-881b-2a2e6c863e18"
      },
      "execution_count": 4,
      "outputs": [
        {
          "output_type": "stream",
          "name": "stdout",
          "text": [
            "Looking in indexes: https://pypi.org/simple, https://us-python.pkg.dev/colab-wheels/public/simple/\n",
            "Collecting torchmetrics\n",
            "  Downloading torchmetrics-0.8.2-py3-none-any.whl (409 kB)\n",
            "\u001b[K     |████████████████████████████████| 409 kB 6.7 MB/s \n",
            "\u001b[?25hRequirement already satisfied: packaging in /usr/local/lib/python3.7/dist-packages (from torchmetrics) (21.3)\n",
            "Requirement already satisfied: torch>=1.3.1 in /usr/local/lib/python3.7/dist-packages (from torchmetrics) (1.11.0+cu113)\n",
            "Collecting pyDeprecate==0.3.*\n",
            "  Downloading pyDeprecate-0.3.2-py3-none-any.whl (10 kB)\n",
            "Requirement already satisfied: numpy>=1.17.2 in /usr/local/lib/python3.7/dist-packages (from torchmetrics) (1.21.6)\n",
            "Requirement already satisfied: typing-extensions in /usr/local/lib/python3.7/dist-packages (from torch>=1.3.1->torchmetrics) (4.2.0)\n",
            "Requirement already satisfied: pyparsing!=3.0.5,>=2.0.2 in /usr/local/lib/python3.7/dist-packages (from packaging->torchmetrics) (3.0.9)\n",
            "Installing collected packages: pyDeprecate, torchmetrics\n",
            "Successfully installed pyDeprecate-0.3.2 torchmetrics-0.8.2\n"
          ]
        }
      ]
    },
    {
      "cell_type": "code",
      "source": [
        "from google.colab import drive\n",
        "drive.mount('/content/gdrive', force_remount=True)"
      ],
      "metadata": {
        "colab": {
          "base_uri": "https://localhost:8080/"
        },
        "id": "ZkI6M_1-d8rj",
        "outputId": "aec3836b-eb3c-42e2-ecb3-0a7a89423841"
      },
      "execution_count": 5,
      "outputs": [
        {
          "output_type": "stream",
          "name": "stdout",
          "text": [
            "Mounted at /content/gdrive\n"
          ]
        }
      ]
    },
    {
      "cell_type": "code",
      "source": [
        "device = torch.device('cuda' if torch.cuda.is_available() else 'cpu')\n",
        "print(device)"
      ],
      "metadata": {
        "colab": {
          "base_uri": "https://localhost:8080/"
        },
        "id": "9MAQ6Uo5eFL8",
        "outputId": "f71e7935-7dd9-4fc4-a1fb-853fac23b2b3"
      },
      "execution_count": 6,
      "outputs": [
        {
          "output_type": "stream",
          "name": "stdout",
          "text": [
            "cuda\n"
          ]
        }
      ]
    },
    {
      "cell_type": "markdown",
      "source": [
        "# Класс Датасета"
      ],
      "metadata": {
        "id": "qnEdeVwijUtF"
      }
    },
    {
      "cell_type": "code",
      "source": [
        "# class LangerSequence(Dataset):\n",
        "#     def __init__(self, root, transform=None):\n",
        "#         self.root = root\n",
        "#         self.transform = transform\n",
        "#         self.classes = os.listdir(self.root)\n",
        "#         self.classes.sort()\n",
        "#         self.targets = [i for i in range(0, len(self.classes))]\n",
        "\n",
        "#         self.series_name = []\n",
        "#         self.classes_lens = []\n",
        "#         for cls in self.classes:\n",
        "#           path = os.path.join(self.root, cls)\n",
        "#           names = os.listdir(path)\n",
        "#           self.series_name.extend(names)\n",
        "#           self.classes_lens.append(len(names))\n",
        "\n",
        "#     def __len__(self):\n",
        "#         return len(self.series_name)     \n",
        "\n",
        "#     def __getitem__(self, idx):\n",
        "#       name = self.series_name[idx]\n",
        "#       cls = name[0]\n",
        "#       path = os.path.join(self.root, cls, name)\n",
        "\n",
        "#       imgs_name = os.listdir(path)\n",
        "#       imgs_name.sort()\n",
        "#       images = [] \n",
        "#       for name in imgs_name:\n",
        "#         img_path = os.path.join(path, name)\n",
        "#         img = dcmread(img_path).pixel_array\n",
        "#         img = img.astype(np.float32)\n",
        "#         if transform:\n",
        "#           img = transform(img)\n",
        "#         images.append(img)\n",
        "#       images = torch.stack(images)\n",
        "\n",
        "#       return images, self.classes.index(cls), len(imgs_name)"
      ],
      "metadata": {
        "id": "E06ClrAFCNwl"
      },
      "execution_count": 7,
      "outputs": []
    },
    {
      "cell_type": "code",
      "source": [
        "class LangerSequence2(Dataset):\n",
        "    def __init__(self, root, transform=None):\n",
        "        self.root = root\n",
        "        self.transform = transform\n",
        "        self.classes = os.listdir(self.root)\n",
        "        self.classes.sort()\n",
        "        self.targets = [i for i in range(0, len(self.classes))]\n",
        "\n",
        "        self.series_name = []\n",
        "        self.classes_lens = []\n",
        "        for cls in self.classes:\n",
        "          path = os.path.join(self.root, cls)\n",
        "          names = os.listdir(path)\n",
        "          self.series_name.extend(names)\n",
        "          self.classes_lens.append(len(names))\n",
        "        \n",
        "        self.series_imgs = []\n",
        "        self.series_targ = []\n",
        "        for name in self.series_name:\n",
        "          cls = name[0]\n",
        "          path = os.path.join(self.root, cls, name)\n",
        "\n",
        "          imgs_name = os.listdir(path)\n",
        "          imgs_name.sort()\n",
        "          images = [] \n",
        "          for name in imgs_name:\n",
        "            img_path = os.path.join(path, name)\n",
        "            img = dcmread(img_path).pixel_array\n",
        "            img = img.astype(np.float32)\n",
        "            if transform:\n",
        "              img = transform(img)\n",
        "            images.append(img)\n",
        "          images = torch.stack(images)\n",
        "\n",
        "          self.series_imgs.append(images)\n",
        "          self.series_targ.append(self.classes.index(cls))\n",
        "\n",
        "    def __len__(self):\n",
        "        return len(self.series_name)     \n",
        "\n",
        "    def __getitem__(self, idx):\n",
        "      images = self.series_imgs[idx]\n",
        "      return images, self.series_targ[idx]"
      ],
      "metadata": {
        "id": "0PICvGq4hHyc"
      },
      "execution_count": 7,
      "outputs": []
    },
    {
      "cell_type": "code",
      "source": [
        "transform = transforms.Compose(\n",
        "    [transforms.ToTensor(),\n",
        "     transforms.Resize((256, 256)), \n",
        "    #  transforms.Normalize([0.8], [0.129])\n",
        "    ])"
      ],
      "metadata": {
        "id": "0PNdKojXpYeh"
      },
      "execution_count": 76,
      "outputs": []
    },
    {
      "cell_type": "code",
      "source": [
        "data_dir = '/content/gdrive/My Drive/for cnn rnn'\n",
        "dataset = LangerSequence2(data_dir, transform=transform)"
      ],
      "metadata": {
        "id": "SXiD4ZApJwQ7"
      },
      "execution_count": 9,
      "outputs": []
    },
    {
      "cell_type": "code",
      "source": [
        "data_dir_test = '/content/gdrive/My Drive/for cnn rnn test'\n",
        "ds_test = LangerSequence2(data_dir_test, transform=transform)"
      ],
      "metadata": {
        "id": "PsJgCelxTJMY"
      },
      "execution_count": 77,
      "outputs": []
    },
    {
      "cell_type": "code",
      "source": [
        "print(dataset.classes)\n",
        "print(dataset.targets)\n",
        "print(dataset.classes_lens)\n",
        "print(len(dataset))"
      ],
      "metadata": {
        "colab": {
          "base_uri": "https://localhost:8080/"
        },
        "id": "tYwxkokhLPXd",
        "outputId": "e2d40d28-4e62-4bf7-89a5-b8e02434dd00"
      },
      "execution_count": 11,
      "outputs": [
        {
          "output_type": "stream",
          "name": "stdout",
          "text": [
            "['A', 'B', 'E', 'G']\n",
            "[0, 1, 2, 3]\n",
            "[28, 15, 4, 8]\n",
            "55\n"
          ]
        }
      ]
    },
    {
      "cell_type": "code",
      "source": [
        "print(ds_test.classes)\n",
        "print(ds_test.targets)\n",
        "print(ds_test.classes_lens)\n",
        "print(len(ds_test))"
      ],
      "metadata": {
        "colab": {
          "base_uri": "https://localhost:8080/"
        },
        "id": "Ceipr5-IV0-P",
        "outputId": "39b04069-030f-4207-ba5d-af249c98f668"
      },
      "execution_count": 12,
      "outputs": [
        {
          "output_type": "stream",
          "name": "stdout",
          "text": [
            "['A', 'B', 'E', 'G']\n",
            "[0, 1, 2, 3]\n",
            "[4, 3, 2, 2]\n",
            "11\n"
          ]
        }
      ]
    },
    {
      "cell_type": "code",
      "source": [
        "dataset[0]"
      ],
      "metadata": {
        "colab": {
          "base_uri": "https://localhost:8080/"
        },
        "id": "eEZ-jM4WLPZ8",
        "outputId": "7507629a-3dda-4d16-8765-5a6f9db1e512"
      },
      "execution_count": null,
      "outputs": [
        {
          "output_type": "execute_result",
          "data": {
            "text/plain": [
              "(tensor([[[[-2000., -2000., -2000.,  ..., -2000., -2000., -2000.],\n",
              "           [-2000., -2000., -2000.,  ..., -2000., -2000., -2000.],\n",
              "           [-2000., -2000., -2000.,  ..., -2000., -2000., -2000.],\n",
              "           ...,\n",
              "           [-2000., -2000., -2000.,  ..., -2000., -2000., -2000.],\n",
              "           [-2000., -2000., -2000.,  ..., -2000., -2000., -2000.],\n",
              "           [-2000., -2000., -2000.,  ..., -2000., -2000., -2000.]]],\n",
              " \n",
              " \n",
              "         [[[-2000., -2000., -2000.,  ..., -2000., -2000., -2000.],\n",
              "           [-2000., -2000., -2000.,  ..., -2000., -2000., -2000.],\n",
              "           [-2000., -2000., -2000.,  ..., -2000., -2000., -2000.],\n",
              "           ...,\n",
              "           [-2000., -2000., -2000.,  ..., -2000., -2000., -2000.],\n",
              "           [-2000., -2000., -2000.,  ..., -2000., -2000., -2000.],\n",
              "           [-2000., -2000., -2000.,  ..., -2000., -2000., -2000.]]],\n",
              " \n",
              " \n",
              "         [[[-2000., -2000., -2000.,  ..., -2000., -2000., -2000.],\n",
              "           [-2000., -2000., -2000.,  ..., -2000., -2000., -2000.],\n",
              "           [-2000., -2000., -2000.,  ..., -2000., -2000., -2000.],\n",
              "           ...,\n",
              "           [-2000., -2000., -2000.,  ..., -2000., -2000., -2000.],\n",
              "           [-2000., -2000., -2000.,  ..., -2000., -2000., -2000.],\n",
              "           [-2000., -2000., -2000.,  ..., -2000., -2000., -2000.]]],\n",
              " \n",
              " \n",
              "         ...,\n",
              " \n",
              " \n",
              "         [[[-2000., -2000., -2000.,  ..., -2000., -2000., -2000.],\n",
              "           [-2000., -2000., -2000.,  ..., -2000., -2000., -2000.],\n",
              "           [-2000., -2000., -2000.,  ..., -2000., -2000., -2000.],\n",
              "           ...,\n",
              "           [-2000., -2000., -2000.,  ..., -2000., -2000., -2000.],\n",
              "           [-2000., -2000., -2000.,  ..., -2000., -2000., -2000.],\n",
              "           [-2000., -2000., -2000.,  ..., -2000., -2000., -2000.]]],\n",
              " \n",
              " \n",
              "         [[[-2000., -2000., -2000.,  ..., -2000., -2000., -2000.],\n",
              "           [-2000., -2000., -2000.,  ..., -2000., -2000., -2000.],\n",
              "           [-2000., -2000., -2000.,  ..., -2000., -2000., -2000.],\n",
              "           ...,\n",
              "           [-2000., -2000., -2000.,  ..., -2000., -2000., -2000.],\n",
              "           [-2000., -2000., -2000.,  ..., -2000., -2000., -2000.],\n",
              "           [-2000., -2000., -2000.,  ..., -2000., -2000., -2000.]]],\n",
              " \n",
              " \n",
              "         [[[-2000., -2000., -2000.,  ..., -2000., -2000., -2000.],\n",
              "           [-2000., -2000., -2000.,  ..., -2000., -2000., -2000.],\n",
              "           [-2000., -2000., -2000.,  ..., -2000., -2000., -2000.],\n",
              "           ...,\n",
              "           [-2000., -2000., -2000.,  ..., -2000., -2000., -2000.],\n",
              "           [-2000., -2000., -2000.,  ..., -2000., -2000., -2000.],\n",
              "           [-2000., -2000., -2000.,  ..., -2000., -2000., -2000.]]]]), 0)"
            ]
          },
          "metadata": {},
          "execution_count": 12
        }
      ]
    },
    {
      "cell_type": "code",
      "source": [
        "# [кол-во изображений в серии, кол-во каналов, ширина, высота]\n",
        "dataset[0][0].shape"
      ],
      "metadata": {
        "colab": {
          "base_uri": "https://localhost:8080/"
        },
        "id": "LfUgWBvENVQf",
        "outputId": "0be388d4-8a98-4d51-c0a2-45e2173aeacc"
      },
      "execution_count": null,
      "outputs": [
        {
          "output_type": "execute_result",
          "data": {
            "text/plain": [
              "torch.Size([36, 1, 256, 256])"
            ]
          },
          "metadata": {},
          "execution_count": 13
        }
      ]
    },
    {
      "cell_type": "code",
      "source": [
        "def show_img(img, title=''):\n",
        "  plt.imshow(img)\n",
        "  plt.title(title)\n",
        "  plt.axis('off')\n",
        "  plt.show()"
      ],
      "metadata": {
        "id": "2Xfh7QFULPc-"
      },
      "execution_count": 61,
      "outputs": []
    },
    {
      "cell_type": "markdown",
      "source": [
        "У изображений разная яркость"
      ],
      "metadata": {
        "id": "DBJNy2HVj602"
      }
    },
    {
      "cell_type": "code",
      "source": [
        "show_img(dataset[0][0][20][0])"
      ],
      "metadata": {
        "colab": {
          "base_uri": "https://localhost:8080/",
          "height": 248
        },
        "id": "YYMpFsc3NM7a",
        "outputId": "ed754ad3-c136-4b16-c498-cdd5d18315f8"
      },
      "execution_count": null,
      "outputs": [
        {
          "output_type": "display_data",
          "data": {
            "text/plain": [
              "<Figure size 432x288 with 1 Axes>"
            ],
            "image/png": "[encoded data removed]"
          },
          "metadata": {
            "needs_background": "light"
          }
        }
      ]
    },
    {
      "cell_type": "code",
      "source": [
        "show_img(dataset[14][0][20][0])"
      ],
      "metadata": {
        "colab": {
          "base_uri": "https://localhost:8080/",
          "height": 248
        },
        "id": "OEYPRzh3j_bP",
        "outputId": "9c2216a7-50d3-4d9d-f61e-9ab31d46610b"
      },
      "execution_count": 72,
      "outputs": [
        {
          "output_type": "display_data",
          "data": {
            "text/plain": [
              "<Figure size 432x288 with 1 Axes>"
            ],
            "image/png": "[encoded data removed]"
          },
          "metadata": {
            "needs_background": "light"
          }
        }
      ]
    },
    {
      "cell_type": "code",
      "source": [
        "show_img(ds_test[3][0][25][0])"
      ],
      "metadata": {
        "colab": {
          "base_uri": "https://localhost:8080/",
          "height": 248
        },
        "id": "rWW_bm8piRAT",
        "outputId": "59a8d0ad-4219-46a9-b981-3360b39bdaaa"
      },
      "execution_count": 62,
      "outputs": [
        {
          "output_type": "display_data",
          "data": {
            "text/plain": [
              "<Figure size 432x288 with 1 Axes>"
            ],
            "image/png": "[encoded data removed]"
          },
          "metadata": {
            "needs_background": "light"
          }
        }
      ]
    },
    {
      "cell_type": "code",
      "source": [
        ""
      ],
      "metadata": {
        "id": "TkjcTVwFOBCn"
      },
      "execution_count": null,
      "outputs": []
    },
    {
      "cell_type": "markdown",
      "source": [
        "разделить датасет на train и val"
      ],
      "metadata": {
        "id": "W4CsBfovkONY"
      }
    },
    {
      "cell_type": "code",
      "source": [
        "val_size = int(0.2 * len(dataset))\n",
        "train_size = len(dataset) - val_size\n",
        "ds_train, ds_val = torch.utils.data.random_split(dataset, [train_size, val_size], generator=torch.Generator().manual_seed(42))"
      ],
      "metadata": {
        "id": "rFLPxe02xkCK"
      },
      "execution_count": 13,
      "outputs": []
    },
    {
      "cell_type": "code",
      "source": [
        ""
      ],
      "metadata": {
        "id": "pi6gOe3-xkE9"
      },
      "execution_count": null,
      "outputs": []
    },
    {
      "cell_type": "code",
      "source": [
        "# # https://discuss.pytorch.org/t/how-to-create-batches-of-a-list-of-varying-dimension-tensors/50773/14\n",
        "# def collate_fn(data):\n",
        "#     \"\"\"\n",
        "#        data: is a list of tuples with (example, label, length)\n",
        "#              where 'example' is a tensor of arbitrary shape\n",
        "#              and label/length are scalars\n",
        "#     \"\"\"\n",
        "    \n",
        "#     _, labels, lengths = zip(*data)\n",
        "#     max_len = max(lengths)\n",
        "#     n_ftrs = data[0][0].size(1)\n",
        "#     h, w = data[0][0].size(2), data[0][0].size(3)\n",
        "#     features = torch.zeros(len(data), max_len, n_ftrs, h, w)\n",
        "    \n",
        "#     labels = torch.tensor(labels)\n",
        "#     lengths = torch.tensor(lengths)\n",
        "    \n",
        "#     for i in range(len(data)):\n",
        "#       j = data[i][0].size(0)  # кол-во изображений в серии\n",
        "#       features[i] = torch.cat([data[i][0], torch.zeros(max_len - j, n_ftrs, h, w)])\n",
        "\n",
        "#     return features.float(), labels.long(), lengths.long()"
      ],
      "metadata": {
        "id": "56CgXJiqRjC-"
      },
      "execution_count": null,
      "outputs": []
    },
    {
      "cell_type": "markdown",
      "source": [
        "DataLoader"
      ],
      "metadata": {
        "id": "nc85gGrzkawp"
      }
    },
    {
      "cell_type": "code",
      "source": [
        "batch_size=1\n",
        "dl_train = DataLoader(ds_train, batch_size, num_workers=2, shuffle=True, pin_memory=True)\n",
        "dl_val = DataLoader(ds_val, batch_size, num_workers=2, shuffle=True, pin_memory=True)\n",
        "dl_test = DataLoader(ds_test, batch_size, num_workers=2, shuffle=True, pin_memory=True)"
      ],
      "metadata": {
        "id": "HSRmCwg5NM-m"
      },
      "execution_count": 78,
      "outputs": []
    },
    {
      "cell_type": "code",
      "source": [
        ""
      ],
      "metadata": {
        "id": "SVzLWe5IdIZe"
      },
      "execution_count": 43,
      "outputs": []
    },
    {
      "cell_type": "code",
      "source": [
        "# размерность одного из батчей\n",
        "next(iter(dl_train))[0].shape"
      ],
      "metadata": {
        "colab": {
          "base_uri": "https://localhost:8080/"
        },
        "id": "9VkET19ANNCP",
        "outputId": "0ed90a78-d7bb-45ef-cf79-53396a820b34"
      },
      "execution_count": null,
      "outputs": [
        {
          "output_type": "execute_result",
          "data": {
            "text/plain": [
              "torch.Size([1, 56, 1, 256, 256])"
            ]
          },
          "metadata": {},
          "execution_count": 18
        }
      ]
    },
    {
      "cell_type": "code",
      "source": [
        "# значения одного батча\n",
        "next(iter(dl_train))"
      ],
      "metadata": {
        "id": "SJOmcpZFnzKL",
        "colab": {
          "base_uri": "https://localhost:8080/"
        },
        "outputId": "915c0971-36f6-4a81-fb4c-09df93cb3e54"
      },
      "execution_count": null,
      "outputs": [
        {
          "output_type": "execute_result",
          "data": {
            "text/plain": [
              "[tensor([[[[[-2000., -2000., -2000.,  ..., -2000., -2000., -2000.],\n",
              "            [-2000., -2000., -2000.,  ..., -2000., -2000., -2000.],\n",
              "            [-2000., -2000., -2000.,  ..., -2000., -2000., -2000.],\n",
              "            ...,\n",
              "            [-2000., -2000., -2000.,  ..., -2000., -2000., -2000.],\n",
              "            [-2000., -2000., -2000.,  ..., -2000., -2000., -2000.],\n",
              "            [-2000., -2000., -2000.,  ..., -2000., -2000., -2000.]]],\n",
              " \n",
              " \n",
              "          [[[-2000., -2000., -2000.,  ..., -2000., -2000., -2000.],\n",
              "            [-2000., -2000., -2000.,  ..., -2000., -2000., -2000.],\n",
              "            [-2000., -2000., -2000.,  ..., -2000., -2000., -2000.],\n",
              "            ...,\n",
              "            [-2000., -2000., -2000.,  ..., -2000., -2000., -2000.],\n",
              "            [-2000., -2000., -2000.,  ..., -2000., -2000., -2000.],\n",
              "            [-2000., -2000., -2000.,  ..., -2000., -2000., -2000.]]],\n",
              " \n",
              " \n",
              "          [[[-2000., -2000., -2000.,  ..., -2000., -2000., -2000.],\n",
              "            [-2000., -2000., -2000.,  ..., -2000., -2000., -2000.],\n",
              "            [-2000., -2000., -2000.,  ..., -2000., -2000., -2000.],\n",
              "            ...,\n",
              "            [-2000., -2000., -2000.,  ..., -2000., -2000., -2000.],\n",
              "            [-2000., -2000., -2000.,  ..., -2000., -2000., -2000.],\n",
              "            [-2000., -2000., -2000.,  ..., -2000., -2000., -2000.]]],\n",
              " \n",
              " \n",
              "          ...,\n",
              " \n",
              " \n",
              "          [[[-2000., -2000., -2000.,  ..., -2000., -2000., -2000.],\n",
              "            [-2000., -2000., -2000.,  ..., -2000., -2000., -2000.],\n",
              "            [-2000., -2000., -2000.,  ..., -2000., -2000., -2000.],\n",
              "            ...,\n",
              "            [-2000., -2000., -2000.,  ..., -2000., -2000., -2000.],\n",
              "            [-2000., -2000., -2000.,  ..., -2000., -2000., -2000.],\n",
              "            [-2000., -2000., -2000.,  ..., -2000., -2000., -2000.]]],\n",
              " \n",
              " \n",
              "          [[[-2000., -2000., -2000.,  ..., -2000., -2000., -2000.],\n",
              "            [-2000., -2000., -2000.,  ..., -2000., -2000., -2000.],\n",
              "            [-2000., -2000., -2000.,  ..., -2000., -2000., -2000.],\n",
              "            ...,\n",
              "            [-2000., -2000., -2000.,  ..., -2000., -2000., -2000.],\n",
              "            [-2000., -2000., -2000.,  ..., -2000., -2000., -2000.],\n",
              "            [-2000., -2000., -2000.,  ..., -2000., -2000., -2000.]]],\n",
              " \n",
              " \n",
              "          [[[-2000., -2000., -2000.,  ..., -2000., -2000., -2000.],\n",
              "            [-2000., -2000., -2000.,  ..., -2000., -2000., -2000.],\n",
              "            [-2000., -2000., -2000.,  ..., -2000., -2000., -2000.],\n",
              "            ...,\n",
              "            [-2000., -2000., -2000.,  ..., -2000., -2000., -2000.],\n",
              "            [-2000., -2000., -2000.,  ..., -2000., -2000., -2000.],\n",
              "            [-2000., -2000., -2000.,  ..., -2000., -2000., -2000.]]]]]),\n",
              " tensor([0])]"
            ]
          },
          "metadata": {},
          "execution_count": 20
        }
      ]
    },
    {
      "cell_type": "code",
      "source": [
        ""
      ],
      "metadata": {
        "id": "QqpGRWeJWJYp"
      },
      "execution_count": null,
      "outputs": []
    },
    {
      "cell_type": "markdown",
      "source": [
        "# Модель"
      ],
      "metadata": {
        "id": "33QH_C6TkioZ"
      }
    },
    {
      "cell_type": "code",
      "source": [
        "# https://github.com/PacktPublishing/PyTorch-Computer-Vision-Cookbook/blob/master/Chapter10/Chapter10.ipynb\n",
        "from torch import nn\n",
        "class Resnt18Rnn(nn.Module):\n",
        "    def __init__(self, params_model):\n",
        "        super(Resnt18Rnn, self).__init__()\n",
        "        num_classes = params_model[\"num_classes\"]\n",
        "        dr_rate= params_model[\"dr_rate\"]\n",
        "        rnn_hidden_size = params_model[\"rnn_hidden_size\"]\n",
        "        rnn_num_layers = params_model[\"rnn_num_layers\"]\n",
        "        \n",
        "        baseModel = models.resnet18(pretrained=False)\n",
        "        baseModel.conv1 = nn.Conv2d(1, 64, kernel_size=(7, 7), stride=(2, 2), padding=(3, 3), bias=False)\n",
        "        num_features = baseModel.fc.in_features\n",
        "        baseModel.fc = Identity()\n",
        "        self.baseModel = baseModel\n",
        "        self.dropout= nn.Dropout(dr_rate)\n",
        "        self.rnn = nn.LSTM(num_features, rnn_hidden_size, rnn_num_layers)\n",
        "        self.fc1 = nn.Linear(rnn_hidden_size, num_classes)\n",
        "    def forward(self, x):\n",
        "        b_z, ts, c, h, w = x.shape\n",
        "        ii = 0\n",
        "        y = self.baseModel(x[:,ii])\n",
        "        output, (hn, cn) = self.rnn(y.unsqueeze(1))\n",
        "        for ii in range(1, ts):\n",
        "            y = self.baseModel((x[:,ii]))\n",
        "            out, (hn, cn) = self.rnn(y.unsqueeze(1), (hn.to(device), cn.to(device)))\n",
        "        out = self.dropout(out[:,-1])\n",
        "        out = self.fc1(out) \n",
        "        return out \n",
        "    \n",
        "class Identity(nn.Module):\n",
        "    def __init__(self):\n",
        "        super(Identity, self).__init__()\n",
        "    def forward(self, x):\n",
        "        return x    "
      ],
      "metadata": {
        "id": "6Kie7ULFWJbZ"
      },
      "execution_count": 15,
      "outputs": []
    },
    {
      "cell_type": "code",
      "source": [
        "params_model={\n",
        "        \"num_classes\": 4,\n",
        "        \"dr_rate\": 0.3,\n",
        "        \"rnn_num_layers\": 1,\n",
        "        \"rnn_hidden_size\": 200,}\n",
        "model = Resnt18Rnn(params_model).to(device)"
      ],
      "metadata": {
        "id": "_-ULnOohWJhY"
      },
      "execution_count": 79,
      "outputs": []
    },
    {
      "cell_type": "code",
      "source": [
        ""
      ],
      "metadata": {
        "id": "L4Nz9ZvXl4Qx"
      },
      "execution_count": null,
      "outputs": []
    },
    {
      "cell_type": "code",
      "source": [
        "# предсказание класса одной серии\n",
        "ser, lbl = dataset[0]\n",
        "ser = ser.to(device)\n",
        "serb = ser.unsqueeze(0)  # батч из 1 изоборажения\n",
        "preds_prob = model(serb)\n",
        "\n",
        "_, preds = torch.max(preds_prob, dim=1)\n",
        "pred = preds[0].item()\n",
        "\n",
        "print(f\"label_orig: {lbl}\")\n",
        "print(f\"label_pred_prob: {preds_prob}\")\n",
        "print(f\"label_pred: {pred}\")"
      ],
      "metadata": {
        "colab": {
          "base_uri": "https://localhost:8080/"
        },
        "id": "Y4TDu7_9mfyl",
        "outputId": "9da21ed6-4cb6-4ef6-c0a6-f0c96630c772"
      },
      "execution_count": 17,
      "outputs": [
        {
          "output_type": "stream",
          "name": "stdout",
          "text": [
            "label_orig: 0\n",
            "label_pred_prob: tensor([[ 0.0152, -0.0945, -0.1327, -0.1910]], device='cuda:0',\n",
            "       grad_fn=<AddmmBackward0>)\n",
            "label_pred: 0\n"
          ]
        }
      ]
    },
    {
      "cell_type": "code",
      "source": [
        "serb, lbl = next(iter(dl_train))\n",
        "serb = serb.to(device)\n",
        "preds_prob = model(serb)\n",
        "\n",
        "print(f\"label_pred_prob: {preds_prob}\")"
      ],
      "metadata": {
        "colab": {
          "base_uri": "https://localhost:8080/"
        },
        "id": "75JXlnJl2Xy9",
        "outputId": "2cad0e68-c831-4fe9-ab04-118975321f42"
      },
      "execution_count": 38,
      "outputs": [
        {
          "output_type": "stream",
          "name": "stdout",
          "text": [
            "label_pred_prob: tensor([[-5.9162e-01,  1.3686e-01, -2.4708e-04,  7.0862e-01]], device='cuda:0',\n",
            "       grad_fn=<AddmmBackward0>)\n"
          ]
        }
      ]
    },
    {
      "cell_type": "code",
      "source": [
        ""
      ],
      "metadata": {
        "id": "VAqBZZxvmf43"
      },
      "execution_count": 38,
      "outputs": []
    },
    {
      "cell_type": "markdown",
      "source": [
        "# Функции обучения"
      ],
      "metadata": {
        "id": "ydSE_2Yik2m6"
      }
    },
    {
      "cell_type": "code",
      "source": [
        "# проверить качество модели на dataLoader (получить среднии loss и метрику по всем батчам)\n",
        "def evaluate(params):\n",
        "    model = params[\"model\"]\n",
        "    dloader = params[\"dl_val\"]\n",
        "    loss_fn = params[\"loss_fn\"]\n",
        "    metrics_fn = params[\"metrics_fn\"]\n",
        "\n",
        "    model.eval()\n",
        "    with torch.no_grad():\n",
        "        mean_loss = [] # сюда будем складывать средний лосс по батчам\n",
        "        accuracy = []\n",
        "        \n",
        "        for seq, labels in dloader:\n",
        "            seq = seq.to(device)\n",
        "            labels = labels.to(device)\n",
        "            \n",
        "            preds = model(seq)\n",
        "            loss = loss_fn(preds, labels)\n",
        "            metrics = metrics_fn(preds, labels)\n",
        "\n",
        "            mean_loss.append(loss.cpu().numpy()) # добавляем в массив\n",
        "            accuracy.append(metrics.cpu())\n",
        "        \n",
        "        return np.mean(mean_loss), np.mean(accuracy)"
      ],
      "metadata": {
        "id": "9usAdAotuFbw"
      },
      "execution_count": 18,
      "outputs": []
    },
    {
      "cell_type": "code",
      "source": [
        "def fit(params):\n",
        "    num_epochs =  params[\"num_epochs\"]\n",
        "    model =      params[\"model\"]\n",
        "    loss_fn =    params[\"loss_fn\"]\n",
        "    opt =        params[\"opt\"]\n",
        "    dl_train =   params[\"dl_train\"]\n",
        "    dl_val =     params[\"dl_val\"]\n",
        "    metrics_fn = params[\"metrics_fn\"]\n",
        "\n",
        "    history = {'acc': [], 'val_acc': [], 'loss': [], 'val_loss': []}\n",
        "    \n",
        "    for epoch in range(num_epochs): \n",
        "        \n",
        "        # обучение\n",
        "        model.train()\n",
        "        for imgs, labels in dl_train: # train_dl сам перемешается и разделиться при каждой следующей эпохе\n",
        "            imgs = imgs.to(device)\n",
        "            labels = labels.to(device)\n",
        "            \n",
        "            preds = model(imgs) # предсказываем\n",
        "            loss = loss_fn(preds, labels) # вычисляем ошибку\n",
        "            loss.backward() # вычисляем градиент loss_fn по весам и смещениям\n",
        "            opt.step() # делаем шаг к уменьшению ошибки - обновляем веса и смещения\n",
        "            opt.zero_grad() # обнуляем градиент, чтобы значения не накапливались\n",
        "            \n",
        "            \n",
        "        # Каждые 1 эпох вывод прогресса и сохранение истории\n",
        "        if (epoch+1) % 1 == 0:\n",
        "            acc_train = metrics_fn(preds, labels)\n",
        "            loss_val, acc_val = evaluate(params)\n",
        "            \n",
        "            # вывод статистики\n",
        "            print('Epoch [{}/{}], loss: {:.4f} - acc: {:.4f}, val_loss: {:.4f} - val_acc: {:.4f}'\n",
        "                  .format(epoch+1, num_epochs, loss, acc_train, loss_val, acc_val))\n",
        "            \n",
        "            # сохранение истории    \n",
        "            history['acc'].append(acc_train)\n",
        "            history['val_acc'].append(acc_val)\n",
        "            history['loss'].append(loss)\n",
        "            history['val_loss'].append(loss_val)\n",
        "            \n",
        "    return history"
      ],
      "metadata": {
        "id": "sNfWwFSnzjaf"
      },
      "execution_count": 19,
      "outputs": []
    },
    {
      "cell_type": "markdown",
      "source": [
        "# Обучение модели"
      ],
      "metadata": {
        "id": "vfLus4Hgk55_"
      }
    },
    {
      "cell_type": "code",
      "source": [
        "params_train={\n",
        "        \"num_epochs\": 20,\n",
        "        \"model\": model.to(device),\n",
        "        \"loss_fn\": nn.CrossEntropyLoss(), \n",
        "        \"opt\": torch.optim.Adam(model.parameters(), lr=0.0001),\n",
        "        \"dl_train\": dl_train,\n",
        "        \"dl_val\": dl_val,\n",
        "        \"metrics_fn\": torchmetrics.Accuracy(average='macro', num_classes=4).to(device),\n",
        "        }"
      ],
      "metadata": {
        "id": "1vxJz9ftyUM2"
      },
      "execution_count": 80,
      "outputs": []
    },
    {
      "cell_type": "code",
      "source": [
        "# до обучения\n",
        "loss, acc = evaluate(params_train)\n",
        "print('loss: {:.4f} - acc: {:.4f}'.format(loss, acc))"
      ],
      "metadata": {
        "colab": {
          "base_uri": "https://localhost:8080/"
        },
        "id": "VRSYsiDp06RU",
        "outputId": "240a1cad-e119-4fe0-e663-acb6ec57c33a"
      },
      "execution_count": 81,
      "outputs": [
        {
          "output_type": "stream",
          "name": "stdout",
          "text": [
            "loss: 1.4229 - acc: 0.3636\n"
          ]
        }
      ]
    },
    {
      "cell_type": "code",
      "source": [
        "history = fit(params_train)"
      ],
      "metadata": {
        "colab": {
          "base_uri": "https://localhost:8080/"
        },
        "id": "7HJb3hJxuFhM",
        "outputId": "6fb44995-fbb8-4916-a16e-9b06defe1425"
      },
      "execution_count": 82,
      "outputs": [
        {
          "output_type": "stream",
          "name": "stdout",
          "text": [
            "Epoch [1/20], loss: 0.5722 - acc: 1.0000, val_loss: 1.3747 - val_acc: 0.3636\n",
            "Epoch [2/20], loss: 0.6717 - acc: 1.0000, val_loss: 1.3998 - val_acc: 0.3636\n",
            "Epoch [3/20], loss: 1.4940 - acc: 0.0000, val_loss: 1.3518 - val_acc: 0.3636\n",
            "Epoch [4/20], loss: 0.3819 - acc: 1.0000, val_loss: 1.3358 - val_acc: 0.4545\n",
            "Epoch [5/20], loss: 1.2481 - acc: 0.0000, val_loss: 1.1009 - val_acc: 0.6364\n",
            "Epoch [6/20], loss: 0.1066 - acc: 1.0000, val_loss: 1.7033 - val_acc: 0.3636\n",
            "Epoch [7/20], loss: 0.1849 - acc: 1.0000, val_loss: 1.0000 - val_acc: 0.6364\n",
            "Epoch [8/20], loss: 0.1077 - acc: 1.0000, val_loss: 0.9015 - val_acc: 0.7273\n",
            "Epoch [9/20], loss: 0.0494 - acc: 1.0000, val_loss: 1.5195 - val_acc: 0.3636\n",
            "Epoch [10/20], loss: 0.0243 - acc: 1.0000, val_loss: 1.7149 - val_acc: 0.3636\n",
            "Epoch [11/20], loss: 0.0358 - acc: 1.0000, val_loss: 0.7305 - val_acc: 0.8182\n",
            "Epoch [12/20], loss: 0.0089 - acc: 1.0000, val_loss: 1.2877 - val_acc: 0.6364\n",
            "Epoch [13/20], loss: 0.0156 - acc: 1.0000, val_loss: 1.7558 - val_acc: 0.3636\n",
            "Epoch [14/20], loss: 0.0433 - acc: 1.0000, val_loss: 0.7449 - val_acc: 0.8182\n",
            "Epoch [15/20], loss: 0.2747 - acc: 1.0000, val_loss: 0.7276 - val_acc: 0.7273\n",
            "Epoch [16/20], loss: 0.0060 - acc: 1.0000, val_loss: 1.2436 - val_acc: 0.8182\n",
            "Epoch [17/20], loss: 0.0049 - acc: 1.0000, val_loss: 2.3216 - val_acc: 0.3636\n",
            "Epoch [18/20], loss: 0.0096 - acc: 1.0000, val_loss: 0.7656 - val_acc: 0.8182\n",
            "Epoch [19/20], loss: 0.0067 - acc: 1.0000, val_loss: 0.8373 - val_acc: 0.8182\n",
            "Epoch [20/20], loss: 0.0064 - acc: 1.0000, val_loss: 2.0685 - val_acc: 0.3636\n"
          ]
        }
      ]
    },
    {
      "cell_type": "code",
      "source": [
        "# torch.save(model.state_dict(), '/content/gdrive/My Drive/resnet18_rnn_2.pth')"
      ],
      "metadata": {
        "id": "ZPP_pzqkcxLx"
      },
      "execution_count": 85,
      "outputs": []
    },
    {
      "cell_type": "code",
      "source": [
        ""
      ],
      "metadata": {
        "id": "GtKnWiK9o6Qu"
      },
      "execution_count": null,
      "outputs": []
    },
    {
      "cell_type": "markdown",
      "source": [
        "# Тестирование"
      ],
      "metadata": {
        "id": "Q5c_jO1xo3hm"
      }
    },
    {
      "cell_type": "code",
      "source": [
        "model = Resnt18Rnn(params_model).to(device)\n",
        "model.load_state_dict(torch.load('/content/gdrive/My Drive/resnet18_rnn_1.pth', map_location=torch.device(device)))"
      ],
      "metadata": {
        "colab": {
          "base_uri": "https://localhost:8080/"
        },
        "id": "X18NrsL9o7eX",
        "outputId": "aa5c0e47-2a08-4013-900d-013d1b764dda"
      },
      "execution_count": 89,
      "outputs": [
        {
          "output_type": "execute_result",
          "data": {
            "text/plain": [
              "<All keys matched successfully>"
            ]
          },
          "metadata": {},
          "execution_count": 89
        }
      ]
    },
    {
      "cell_type": "code",
      "source": [
        "params_test={\n",
        "        \"model\": model.to(device),\n",
        "        \"loss_fn\": nn.CrossEntropyLoss(), \n",
        "        \"dl_val\": dl_test,\n",
        "        \"metrics_fn\": torchmetrics.Accuracy(average='macro', num_classes=4).to(device),\n",
        "        }\n",
        "loss, acc = evaluate(params_test)\n",
        "print('loss: {:.4f} - acc: {:.4f}'.format(loss, acc))"
      ],
      "metadata": {
        "colab": {
          "base_uri": "https://localhost:8080/"
        },
        "id": "v3ZCjNHudAkj",
        "outputId": "1806ffe5-9c06-415f-b409-825481dac8cf"
      },
      "execution_count": 90,
      "outputs": [
        {
          "output_type": "stream",
          "name": "stdout",
          "text": [
            "loss: 2.2522 - acc: 0.0909\n"
          ]
        }
      ]
    },
    {
      "cell_type": "code",
      "source": [
        "def pred_class(model, series):\n",
        "  series = series.to(device)\n",
        "  serb = series.unsqueeze(0)  # батч из 1 изоборажения\n",
        "  model = model.to(device)\n",
        "  preds_prob = model(serb)\n",
        "\n",
        "  _, preds = torch.max(preds_prob, dim=1)\n",
        "  pred = preds[0].item()\n",
        "  return pred"
      ],
      "metadata": {
        "id": "fahr9FgMDpsM"
      },
      "execution_count": 91,
      "outputs": []
    },
    {
      "cell_type": "code",
      "source": [
        "dataset.classes_lens"
      ],
      "metadata": {
        "colab": {
          "base_uri": "https://localhost:8080/"
        },
        "id": "0pJMQDn8EiV6",
        "outputId": "449bf17b-5f42-4580-f8e6-e8a132869c92"
      },
      "execution_count": 92,
      "outputs": [
        {
          "output_type": "execute_result",
          "data": {
            "text/plain": [
              "[28, 15, 4, 8]"
            ]
          },
          "metadata": {},
          "execution_count": 92
        }
      ]
    },
    {
      "cell_type": "code",
      "source": [
        "ser, label = dataset[0]\n",
        "print('Label:', label, ', Predicted:', pred_class(model, ser))\n",
        "\n",
        "ser, label = dataset[28]\n",
        "print('Label:', label, ', Predicted:', pred_class(model, ser))\n",
        "\n",
        "ser, label = dataset[43]\n",
        "print('Label:', label, ', Predicted:', pred_class(model, ser))\n",
        "\n",
        "ser, label = dataset[47]\n",
        "print('Label:', label, ', Predicted:', pred_class(model, ser))"
      ],
      "metadata": {
        "id": "UFUJgnsT1BMr",
        "colab": {
          "base_uri": "https://localhost:8080/"
        },
        "outputId": "ea89549f-d729-4d61-ebd3-5807759d3819"
      },
      "execution_count": 93,
      "outputs": [
        {
          "output_type": "stream",
          "name": "stdout",
          "text": [
            "Label: 0 , Predicted: 0\n",
            "Label: 1 , Predicted: 3\n",
            "Label: 2 , Predicted: 3\n",
            "Label: 3 , Predicted: 3\n"
          ]
        }
      ]
    },
    {
      "cell_type": "code",
      "source": [
        "from sklearn.metrics import confusion_matrix, accuracy_score\n",
        "def print_confusion_matrix(model, dataset):\n",
        "  y_true = []\n",
        "  y_preds = []\n",
        "  for img, label in dataset:\n",
        "      y_true.append(label)\n",
        "      pred_item = pred_class(model, img)\n",
        "      y_preds.append(pred_item)\n",
        "  print(confusion_matrix(y_true, y_preds))"
      ],
      "metadata": {
        "id": "0LWKpjYsEeac"
      },
      "execution_count": 94,
      "outputs": []
    },
    {
      "cell_type": "code",
      "source": [
        "print_confusion_matrix(model, ds_train)"
      ],
      "metadata": {
        "colab": {
          "base_uri": "https://localhost:8080/"
        },
        "id": "WSKFEVNZFFii",
        "outputId": "ba00d1d3-f8ce-41b6-e6fd-fccfabb5d77a"
      },
      "execution_count": 96,
      "outputs": [
        {
          "output_type": "stream",
          "name": "stdout",
          "text": [
            "[[22  0  0  2]\n",
            " [ 0 11  0  1]\n",
            " [ 0  0  3  0]\n",
            " [ 0  0  0  5]]\n"
          ]
        }
      ]
    },
    {
      "cell_type": "code",
      "source": [
        "print_confusion_matrix(model, ds_val)"
      ],
      "metadata": {
        "colab": {
          "base_uri": "https://localhost:8080/"
        },
        "id": "Z1U7_a_2piSq",
        "outputId": "9a6b9fc6-7dcf-4201-d25a-864a35d358d4"
      },
      "execution_count": 97,
      "outputs": [
        {
          "output_type": "stream",
          "name": "stdout",
          "text": [
            "[[4 0 0 0]\n",
            " [0 3 0 0]\n",
            " [0 0 0 1]\n",
            " [2 0 0 1]]\n"
          ]
        }
      ]
    },
    {
      "cell_type": "code",
      "source": [
        "print_confusion_matrix(model, ds_test)"
      ],
      "metadata": {
        "colab": {
          "base_uri": "https://localhost:8080/"
        },
        "id": "CeLbhCJmFFuQ",
        "outputId": "fe5a92ed-6e62-4075-c3d1-e879a7242a67"
      },
      "execution_count": 98,
      "outputs": [
        {
          "output_type": "stream",
          "name": "stdout",
          "text": [
            "[[0 0 0 4]\n",
            " [2 1 0 0]\n",
            " [0 0 0 2]\n",
            " [0 2 0 0]]\n"
          ]
        }
      ]
    },
    {
      "cell_type": "code",
      "source": [
        ""
      ],
      "metadata": {
        "id": "sZyfSaMXoaup"
      },
      "execution_count": null,
      "outputs": []
    }
  ]
}